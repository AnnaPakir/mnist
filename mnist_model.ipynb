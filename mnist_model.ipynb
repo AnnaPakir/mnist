{
  "cells": [
    {
      "cell_type": "markdown",
      "metadata": {
        "id": "XzrwgIZKfR4E"
      },
      "source": [
        "# Реализация метода обратного распространения ошибки для двухслойной полностью связанной нейронной сети"
      ]
    },
    {
      "cell_type": "markdown",
      "metadata": {
        "id": "nGsWhL41fn_p"
      },
      "source": [
        "<u>Цель:</u>  изучить метод обратного распространения ошибки для обучения глубоких нейронных сетей на примере двухслойной полностью связанной сети (один скрытый слой)."
      ]
    },
    {
      "cell_type": "markdown",
      "metadata": {
        "id": "Q5PviC1ugEGS"
      },
      "source": [
        "Выполнение практической работы предполагает решение следующих задач:\n",
        "1. Изучение общей схемы метода обратного распространения ошибки.\n",
        "2. Вывод математических формул для вычисления градиентов функции ошибки по параметрам нейронной сети и формул коррекции весов.\n",
        "3. Проектирование и разработка программной реализации.\n",
        "4. Тестирование разработанной программной реализации.\n",
        "5. Подготовка отчета, содержащего минимальный объем информации по каждому этапу выполнения работы.\n"
      ]
    },
    {
      "cell_type": "code",
      "execution_count": 48,
      "metadata": {
        "id": "YqA8kXapfQxS"
      },
      "outputs": [],
      "source": [
        "# загрузим необходимые библиотеки\n",
        "import sympy as sp\n",
        "from sympy.parsing.sympy_parser import parse_expr\n",
        "import matplotlib.pyplot as plt\n",
        "import numpy as np\n",
        "\n",
        "import cv2\n",
        "import os\n",
        "import random\n",
        "import matplotlib.image as mpimg\n",
        "import pickle\n",
        "from tensorflow.keras.datasets import mnist\n",
        "from PIL import Image\n",
        "\n",
        "from keras.datasets import mnist\n",
        "from keras.utils import to_categorical\n",
        "from keras.models import Sequential\n",
        "from keras.layers import Dense,Input\n",
        "from keras.models import load_model\n",
        "\n",
        "import gradio as gr"
      ]
    },
    {
      "cell_type": "markdown",
      "source": [
        "Побочные функции. Основные фунеции расположены по тексту проекта."
      ],
      "metadata": {
        "id": "3s7yjScvbVrP"
      }
    },
    {
      "cell_type": "code",
      "execution_count": 5,
      "metadata": {
        "id": "bMFInrChfiM2"
      },
      "outputs": [],
      "source": [
        "def draw_formula_from_text(description):\n",
        "    \"\"\"\n",
        "    Принимает текстовое описание формулы и рисует её.\n",
        "    \"\"\"\n",
        "    fig, ax = plt.subplots(figsize=(8, 3))\n",
        "    ax.text(0.5, 0.5, description, fontsize=20, ha='center', va='center', usetex=True)\n",
        "    ax.axis('off')\n",
        "    plt.show()"
      ]
    },
    {
      "cell_type": "code",
      "execution_count": 2,
      "metadata": {
        "id": "O1-qBJrP42fh"
      },
      "outputs": [],
      "source": [
        "def draw_neural_network(input_size, hidden_size, output_size, input_names, weight_names, activation_names):\n",
        "    \"\"\"\n",
        "    Рисует нейронную сеть по входным данным\n",
        "    \"\"\"\n",
        "    plt.figure(figsize=(12, 8))\n",
        "    input_layer_x = np.zeros(input_size)\n",
        "    input_layer_y = np.linspace(1, 0, input_size)\n",
        "    hidden_layer_x = np.ones(hidden_size)\n",
        "    hidden_layer_y = np.linspace(1, 0, hidden_size)\n",
        "    output_layer_x = 2 * np.ones(output_size)\n",
        "    output_layer_y = np.linspace(1, 0, output_size)\n",
        "\n",
        "    for i, (x, y) in enumerate(zip(input_layer_x, input_layer_y)):\n",
        "        plt.scatter(x, y, s=500, color='lightblue', edgecolor='black', linewidth=2)\n",
        "        plt.text(x, y + 0.1, input_names[i], fontsize=12, ha='center', va='center')  \n",
        "\n",
        "    for j, (x, y) in enumerate(zip(hidden_layer_x, hidden_layer_y)):\n",
        "        plt.scatter(x, y, s=500, color='lightgreen', edgecolor='black', linewidth=2)\n",
        "        plt.text(x, y + 0.1, activation_names[j], fontsize=12, ha='center', va='center')  \n",
        "\n",
        "    for k, (x, y) in enumerate(zip(output_layer_x, output_layer_y)):\n",
        "        plt.scatter(x, y, s=500, color='salmon', edgecolor='black', linewidth=2)\n",
        "        plt.text(x, y + 0.1, f'Y{k+1}', fontsize=12, ha='center', va='center')  \n",
        "\n",
        "    for i in range(input_size):\n",
        "        for j in range(hidden_size):\n",
        "            plt.plot([input_layer_x[i], hidden_layer_x[j]], [input_layer_y[i], hidden_layer_y[j]], 'k-')\n",
        "            plt.text((input_layer_x[i] + hidden_layer_x[j]) / 2, (input_layer_y[i] + hidden_layer_y[j]) / 2, weight_names[i][j], fontsize=10, ha='center', va='center')\n",
        "\n",
        "    for j in range(hidden_size):\n",
        "        for k in range(output_size):\n",
        "            plt.plot([hidden_layer_x[j], output_layer_x[k]], [hidden_layer_y[j], output_layer_y[k]], 'k--')  # Используем пунктирную линию для выходных данных\n",
        "            plt.text((hidden_layer_x[j] + output_layer_x[k]) / 2, (hidden_layer_y[j] + output_layer_y[k]) / 2, f'w{j+1}{k+1}', fontsize=10, ha='center', va='center')\n",
        "\n",
        "    plt.annotate('Input Layer (X)', xy=(-0.5, 0.5), fontsize=14, ha='center')\n",
        "    plt.annotate('Hidden Layer (H)', xy=(0.5, 0.5), fontsize=14, ha='center')\n",
        "    plt.annotate('Output Layer (Y)', xy=(2.5, 0.5), fontsize=14, ha='center')\n",
        "\n",
        "    plt.xlim(-0.5, 2.5)\n",
        "    plt.ylim(-0.5, 1.5)\n",
        "    plt.axis('off')\n",
        "    plt.title('Образец простой полносвязной сети', fontsize=16)\n",
        "    plt.show()"
      ]
    },
    {
      "cell_type": "markdown",
      "metadata": {
        "id": "Sw0AbA6bg4kQ"
      },
      "source": [
        "## Часть 1. Вывод математических формул"
      ]
    },
    {
      "cell_type": "markdown",
      "metadata": {
        "id": "tFuV2F_-g_1B"
      },
      "source": [
        "В данной части будут выведены и описаны формулы для вычисления градиентов функции ошибки по параметрам нейронной сети и формулы коррекции весов."
      ]
    },
    {
      "cell_type": "markdown",
      "metadata": {
        "id": "-9W9gelnyGT0"
      },
      "source": [
        "Для начала рассмотрим простую полносвязную нейронную сеть."
      ]
    },
    {
      "cell_type": "code",
      "execution_count": 52,
      "metadata": {
        "colab": {
          "base_uri": "https://localhost:8080/",
          "height": 678
        },
        "id": "hu8aGCwZ0i73",
        "outputId": "fa66a928-637c-470a-a708-c2ec97f92a5f"
      },
      "outputs": [
        {
          "output_type": "display_data",
          "data": {
            "text/plain": [
              "<Figure size 1200x800 with 1 Axes>"
            ],
            "image/png": "[encoded data removed]"
          },
          "metadata": {}
        }
      ],
      "source": [
        "input_names = ['X1', 'X2', 'X3','X4']\n",
        "weight_names = [\n",
        "    ['w11', 'w12'],\n",
        "    ['w21', 'w22'],\n",
        "    ['w31', 'w32'],\n",
        "    ['w41', 'w42']\n",
        "]\n",
        "activation_names = ['H1 (Activation)', 'H2 (Activation)']\n",
        "draw_neural_network(input_size=4, hidden_size=2, output_size=1,\n",
        "                    input_names=input_names,\n",
        "                    weight_names= weight_names,\n",
        "                    activation_names=activation_names)"
      ]
    },
    {
      "cell_type": "markdown",
      "metadata": {
        "id": "5ncrNODZW2Us"
      },
      "source": [
        "Для начала обозначим все формулы, по которым построена нейронная сеть."
      ]
    },
    {
      "cell_type": "markdown",
      "metadata": {
        "id": "d15ty61HrCZR"
      },
      "source": [
        "### Общие формулы"
      ]
    },
    {
      "cell_type": "code",
      "execution_count": 53,
      "metadata": {
        "colab": {
          "base_uri": "https://localhost:8080/",
          "height": 372
        },
        "id": "y9DunctD0i_J",
        "outputId": "edcb1714-6a52-432e-d1c6-5d372ac3bcfd"
      },
      "outputs": [
        {
          "output_type": "stream",
          "name": "stdout",
          "text": [
            "Выход на каждом слое l вычисляется по общей формуле:\n"
          ]
        },
        {
          "output_type": "display_data",
          "data": {
            "text/plain": [
              "<Figure size 800x300 with 1 Axes>"
            ],
            "image/png": "[encoded data removed]"
          },
          "metadata": {}
        },
        {
          "output_type": "stream",
          "name": "stdout",
          "text": [
            "Где: \n",
            " z - входные данные слоя \n",
            " W - веса слоя \n",
            " a - выходные данные предыдущего слоя \n",
            " b - смещение слоя\n"
          ]
        }
      ],
      "source": [
        "print('Выход на каждом слое l вычисляется по общей формуле:')\n",
        "latex = r\"$z^{(l)} = W^{(l)} a^{(l-1)} + b^{(l)}$\"\n",
        "draw_formula_from_text(latex)\n",
        "print('Где: \\n z - входные данные слоя \\n W - веса слоя \\n a - выходные данные предыдущего слоя \\n b - смещение слоя')"
      ]
    },
    {
      "cell_type": "code",
      "execution_count": 54,
      "metadata": {
        "colab": {
          "base_uri": "https://localhost:8080/",
          "height": 303
        },
        "id": "58CSuWHyszhO",
        "outputId": "a401ec79-46ad-4b7f-e08a-d6cda711602e"
      },
      "outputs": [
        {
          "output_type": "stream",
          "name": "stdout",
          "text": [
            "Для единственного скрытого слоя выходные данные слоя равны входным данным сети, и формула превращается:\n"
          ]
        },
        {
          "output_type": "display_data",
          "data": {
            "text/plain": [
              "<Figure size 800x300 with 1 Axes>"
            ],
            "image/png": "[encoded data removed]"
          },
          "metadata": {}
        },
        {
          "output_type": "stream",
          "name": "stdout",
          "text": [
            "Для итогового слоя z=y_pred, то есть выходные значения это и есть предсказанные значения\n"
          ]
        }
      ],
      "source": [
        "print('Для единственного скрытого слоя выходные данные слоя равны входным данным сети, и формула превращается:')\n",
        "latex = r\"$z = W X + b$\"\n",
        "draw_formula_from_text(latex)\n",
        "print('Для итогового слоя z=y_pred, то есть выходные значения это и есть предсказанные значения')"
      ]
    },
    {
      "cell_type": "code",
      "execution_count": 55,
      "metadata": {
        "colab": {
          "base_uri": "https://localhost:8080/",
          "height": 285
        },
        "id": "YjRyOpVYYjj0",
        "outputId": "77f89515-6c12-4363-bfb1-d027b9e05f53"
      },
      "outputs": [
        {
          "output_type": "stream",
          "name": "stdout",
          "text": [
            "Входные и выходные данные в слое связаны через функцию активации:\n"
          ]
        },
        {
          "output_type": "display_data",
          "data": {
            "text/plain": [
              "<Figure size 800x300 with 1 Axes>"
            ],
            "image/png": "[encoded data removed]"
          },
          "metadata": {}
        }
      ],
      "source": [
        "print('Входные и выходные данные в слое связаны через функцию активации:')\n",
        "latex = r\"$a = \\sigma(z)$\"\n",
        "draw_formula_from_text(latex)"
      ]
    },
    {
      "cell_type": "code",
      "execution_count": 56,
      "metadata": {
        "colab": {
          "base_uri": "https://localhost:8080/",
          "height": 320
        },
        "id": "FDyrERu0-j9D",
        "outputId": "1e144428-6c62-40a5-85c7-1cdd9e6d5c36"
      },
      "outputs": [
        {
          "output_type": "stream",
          "name": "stdout",
          "text": [
            "Для выходного слоя в задаче классификации приминяется softmax\n"
          ]
        },
        {
          "output_type": "display_data",
          "data": {
            "text/plain": [
              "<Figure size 800x300 with 1 Axes>"
            ],
            "image/png": "[encoded data removed]"
          },
          "metadata": {}
        },
        {
          "output_type": "stream",
          "name": "stdout",
          "text": [
            "Где: \n",
            " k - количества классов, в нашем случае 10\n"
          ]
        }
      ],
      "source": [
        "print('Для выходного слоя в задаче классификации приминяется softmax')\n",
        "latex = r\"$Softmax(y_i) = \\frac{e^{z_i}}{\\sum_{j=1}^k e^{z_j}}$\"\n",
        "draw_formula_from_text(latex)\n",
        "print('Где: \\n k - количества классов, в нашем случае 10')"
      ]
    },
    {
      "cell_type": "markdown",
      "metadata": {
        "id": "60hOD8SQ_s1B"
      },
      "source": [
        "- вычисляется для каждого класса. В нашем случае это 10 классов цифр.\n",
        "- заключается в прообразовании вектора значений в вероятностное распределение, которое суммируется до 1."
      ]
    },
    {
      "cell_type": "code",
      "execution_count": 57,
      "metadata": {
        "colab": {
          "base_uri": "https://localhost:8080/",
          "height": 303
        },
        "id": "nK1dN5-eF215",
        "outputId": "43a4b876-dc12-4032-d25f-4f1d38294ab0"
      },
      "outputs": [
        {
          "output_type": "stream",
          "name": "stdout",
          "text": [
            "Функцией ошибки может быть используемая для задач классификации - кросс-энтропия. \n",
            " Эта функция известна как отрицательная логирифмическая вероятность.\n"
          ]
        },
        {
          "output_type": "display_data",
          "data": {
            "text/plain": [
              "<Figure size 800x300 with 1 Axes>"
            ],
            "image/png": "[encoded data removed]"
          },
          "metadata": {}
        }
      ],
      "source": [
        "print('Функцией ошибки может быть используемая для задач классификации - кросс-энтропия. \\n Эта функция известна как отрицательная логирифмическая вероятность.')\n",
        "latex = r\"$L = {-\\sum_{k=1}^K y_k log(z_k)}$\"\n",
        "draw_formula_from_text(latex)"
      ]
    },
    {
      "cell_type": "markdown",
      "metadata": {
        "id": "gfPQ_GPqIWwN"
      },
      "source": [
        "Фактически это отрицательная сумма произведения вероятности истинного класса и логарифма вероятности предсказанного класса.\n",
        "- Если сеть хорошо предсказывает правильный класс, то z_k для этого класса будет близко к 1, и ошибка будет маленькой.\n",
        "- Если сеть плохо предсказывает, то z_k будет маленьким, и ошибка будет большой."
      ]
    },
    {
      "cell_type": "markdown",
      "metadata": {
        "id": "c4ztLzdUqiZ9"
      },
      "source": [
        "### Расчет ошибки на выходном слое\n"
      ]
    },
    {
      "cell_type": "code",
      "execution_count": 58,
      "metadata": {
        "colab": {
          "base_uri": "https://localhost:8080/",
          "height": 285
        },
        "id": "Ybd8P3BTQQib",
        "outputId": "5b08ffc4-2c62-4a6e-a777-1b4563c0fd9b"
      },
      "outputs": [
        {
          "output_type": "stream",
          "name": "stdout",
          "text": [
            "Производная функции ошибки L слоя l по выходным данным z рассчитывается:\n"
          ]
        },
        {
          "output_type": "display_data",
          "data": {
            "text/plain": [
              "<Figure size 800x300 with 1 Axes>"
            ],
            "image/png": "[encoded data removed]"
          },
          "metadata": {}
        }
      ],
      "source": [
        "print('Производная функции ошибки L слоя l по выходным данным z рассчитывается:')\n",
        "latex = r\"$\\delta^{(l)} = \\frac{\\partial L}{\\partial z^{(l)}}$\"\n",
        "draw_formula_from_text(latex)"
      ]
    },
    {
      "cell_type": "code",
      "execution_count": 59,
      "metadata": {
        "colab": {
          "base_uri": "https://localhost:8080/",
          "height": 571
        },
        "id": "92HtxUS9_jne",
        "outputId": "aa89bea7-6768-4955-cb99-53ea02a4acfb"
      },
      "outputs": [
        {
          "output_type": "stream",
          "name": "stdout",
          "text": [
            "Найдем производную softmax:\n",
            "Производная внутри одной и той же компоненты\n"
          ]
        },
        {
          "output_type": "display_data",
          "data": {
            "text/plain": [
              "<Figure size 800x300 with 1 Axes>"
            ],
            "image/png": "[encoded data removed]"
          },
          "metadata": {}
        },
        {
          "output_type": "stream",
          "name": "stdout",
          "text": [
            "Производная между разными компонентами\n"
          ]
        },
        {
          "output_type": "display_data",
          "data": {
            "text/plain": [
              "<Figure size 800x300 with 1 Axes>"
            ],
            "image/png": "[encoded data removed]"
          },
          "metadata": {}
        }
      ],
      "source": [
        "print('Найдем производную softmax:')\n",
        "print('Производная внутри одной и той же компоненты')\n",
        "latex = r\"$\\frac{\\hat{y}_i}{\\partial z_k} = \\hat{y}_i (1 - \\hat{y}_i)$\"\n",
        "draw_formula_from_text(latex)\n",
        "print('Производная между разными компонентами')\n",
        "latex = r\"$\\frac{\\partial \\hat{y}_i}{\\partial z_k} = -\\hat{y}_i \\hat{y}_k$\"\n",
        "draw_formula_from_text(latex)"
      ]
    },
    {
      "cell_type": "code",
      "execution_count": 60,
      "metadata": {
        "colab": {
          "base_uri": "https://localhost:8080/",
          "height": 1000
        },
        "id": "smPefuF7_jqG",
        "outputId": "86db5371-d1c4-4fad-af94-0cd571441225"
      },
      "outputs": [
        {
          "output_type": "stream",
          "name": "stdout",
          "text": [
            "Найдем производную кросс-энтропии:\n",
            "Формула ошибки кросс-энтропии:\n"
          ]
        },
        {
          "output_type": "display_data",
          "data": {
            "text/plain": [
              "<Figure size 800x300 with 1 Axes>"
            ],
            "image/png": "[encoded data removed]"
          },
          "metadata": {}
        },
        {
          "output_type": "stream",
          "name": "stdout",
          "text": [
            "Возьмем производную ошибки до выходу до применения softmax:\n"
          ]
        },
        {
          "output_type": "display_data",
          "data": {
            "text/plain": [
              "<Figure size 800x300 with 1 Axes>"
            ],
            "image/png": "[encoded data removed]"
          },
          "metadata": {}
        },
        {
          "output_type": "stream",
          "name": "stdout",
          "text": [
            "Найдем частную производную функции ошибки по предсказанным вероятностям\n"
          ]
        },
        {
          "output_type": "display_data",
          "data": {
            "text/plain": [
              "<Figure size 800x300 with 1 Axes>"
            ],
            "image/png": "[encoded data removed]"
          },
          "metadata": {}
        },
        {
          "output_type": "stream",
          "name": "stdout",
          "text": [
            "Подставим в формулу\n"
          ]
        },
        {
          "output_type": "display_data",
          "data": {
            "text/plain": [
              "<Figure size 800x300 with 1 Axes>"
            ],
            "image/png": "[encoded data removed]"
          },
          "metadata": {}
        }
      ],
      "source": [
        "print('Найдем производную кросс-энтропии:')\n",
        "print('Формула ошибки кросс-энтропии:')\n",
        "latex = r\"$L = -\\sum_{i=1}^K y_i \\log(\\hat{y}_i)$\"\n",
        "draw_formula_from_text(latex)\n",
        "print('Возьмем производную ошибки до выходу до применения softmax:')\n",
        "latex = r\"$\\frac{\\partial L}{\\partial z_k} = \\sum_{i=1}^K \\frac{\\partial L}{\\partial \\hat{y}_i} \\cdot \\frac{\\partial \\hat{y}_i}{\\partial z_k}$\"\n",
        "draw_formula_from_text(latex)\n",
        "print('Найдем частную производную функции ошибки по предсказанным вероятностям')\n",
        "latex = r\"$\\frac{\\partial L}{\\partial \\hat{y}_i} = -\\frac{y_i}{\\hat{y}_i}$\"\n",
        "draw_formula_from_text(latex)\n",
        "print('Подставим в формулу')\n",
        "latex = r\"$\\frac{\\partial L}{\\partial z_k} = \\sum_{i=1}^K \\left( -\\frac{y_i}{\\hat{y}_i} \\right) \\cdot \\frac{\\partial \\hat{y}_i}{\\partial z_k}$\"\n",
        "draw_formula_from_text(latex)\n"
      ]
    },
    {
      "cell_type": "code",
      "execution_count": 61,
      "metadata": {
        "colab": {
          "base_uri": "https://localhost:8080/",
          "height": 571
        },
        "id": "uxCAtPOH_jtP",
        "outputId": "c42956ad-df6d-418c-e56d-b3169a0c8289"
      },
      "outputs": [
        {
          "output_type": "stream",
          "name": "stdout",
          "text": [
            "Подставим в эту формулу для производной softmax\n",
            "Для разных компонент\n"
          ]
        },
        {
          "output_type": "display_data",
          "data": {
            "text/plain": [
              "<Figure size 800x300 with 1 Axes>"
            ],
            "image/png": "[encoded data removed]"
          },
          "metadata": {}
        },
        {
          "output_type": "stream",
          "name": "stdout",
          "text": [
            "Для одинаковых компонент\n"
          ]
        },
        {
          "output_type": "display_data",
          "data": {
            "text/plain": [
              "<Figure size 800x300 with 1 Axes>"
            ],
            "image/png": "[encoded data removed]"
          },
          "metadata": {}
        }
      ],
      "source": [
        "print('Подставим в эту формулу для производной softmax')\n",
        "print('Для разных компонент')\n",
        "latex = r\"$-\\frac{y_k}{\\hat{y}_k} \\cdot \\hat{y}_k (1 - \\hat{y}_k) = -y_k (1 - \\hat{y}_k)$\"\n",
        "draw_formula_from_text(latex)\n",
        "print('Для одинаковых компонент')\n",
        "latex = r\"$-\\frac{y_i}{\\hat{y}_i} \\cdot (-\\hat{y}_i \\hat{y}_k) = y_i \\hat{y}_k$\"\n",
        "draw_formula_from_text(latex)"
      ]
    },
    {
      "cell_type": "code",
      "execution_count": 62,
      "metadata": {
        "colab": {
          "base_uri": "https://localhost:8080/",
          "height": 554
        },
        "id": "QOTrXoMxpTXI",
        "outputId": "834b99b6-fc05-4294-880f-4352ed5d4ea1"
      },
      "outputs": [
        {
          "output_type": "stream",
          "name": "stdout",
          "text": [
            "Объединим оба случая:\n"
          ]
        },
        {
          "output_type": "display_data",
          "data": {
            "text/plain": [
              "<Figure size 800x300 with 1 Axes>"
            ],
            "image/png": "[encoded data removed]"
          },
          "metadata": {}
        },
        {
          "output_type": "stream",
          "name": "stdout",
          "text": [
            "Так как мы использует OneHotEncoder,  и y=0, для всех случаев разных компонент, то остается:\n"
          ]
        },
        {
          "output_type": "display_data",
          "data": {
            "text/plain": [
              "<Figure size 800x300 with 1 Axes>"
            ],
            "image/png": "[encoded data removed]"
          },
          "metadata": {}
        }
      ],
      "source": [
        "print('Объединим оба случая:')\n",
        "latex = r\"$\\frac{\\partial L}{\\partial z_k} = -y_k (1 - \\hat{y}_k) + \\sum_{i \\neq k} y_i \\hat{y}_k)$\"\n",
        "draw_formula_from_text(latex)\n",
        "print('Так как мы использует OneHotEncoder,  и y=0, для всех случаев разных компонент, то остается:')\n",
        "latex = r\"$\\delta^{(2)} = \\frac{\\partial L}{\\partial z^{(2)}} = \\hat{y} - y$\"\n",
        "draw_formula_from_text(latex)"
      ]
    },
    {
      "cell_type": "markdown",
      "metadata": {
        "id": "Y9_9F-sus5UM"
      },
      "source": [
        "### Расчет градиентов функции ошибки по параметрам выходного слоя"
      ]
    },
    {
      "cell_type": "code",
      "execution_count": 63,
      "metadata": {
        "colab": {
          "base_uri": "https://localhost:8080/",
          "height": 554
        },
        "id": "4Y3r-OwEpTZ2",
        "outputId": "7716f863-a9ff-4d75-f409-fccaa30094b5"
      },
      "outputs": [
        {
          "output_type": "stream",
          "name": "stdout",
          "text": [
            "Линейная комбинация выходного слоя\n"
          ]
        },
        {
          "output_type": "display_data",
          "data": {
            "text/plain": [
              "<Figure size 800x300 with 1 Axes>"
            ],
            "image/png": "[encoded data removed]"
          },
          "metadata": {}
        },
        {
          "output_type": "stream",
          "name": "stdout",
          "text": [
            "Так как выход z зависит от весомв W, то используя цепное правило диффференцирования:\n"
          ]
        },
        {
          "output_type": "display_data",
          "data": {
            "text/plain": [
              "<Figure size 800x300 with 1 Axes>"
            ],
            "image/png": "[encoded data removed]"
          },
          "metadata": {}
        }
      ],
      "source": [
        "print('Линейная комбинация выходного слоя')\n",
        "latex = r\"$z^{(2)} = W^{(2)} a^{(1)} + b^{(2)}$\"\n",
        "draw_formula_from_text(latex)\n",
        "print('Так как выход z зависит от весомв W, то используя цепное правило диффференцирования:')\n",
        "latex = r\"$\\frac{\\partial L}{\\partial W^{(2)}} = \\frac{\\partial L}{\\partial z^{(2)}} \\cdot \\frac{\\partial z^{(2)}}{\\partial W^{(2)}}$\"\n",
        "draw_formula_from_text(latex)"
      ]
    },
    {
      "cell_type": "code",
      "execution_count": 64,
      "metadata": {
        "colab": {
          "base_uri": "https://localhost:8080/",
          "height": 606
        },
        "id": "pc0tB2oLpTc4",
        "outputId": "b010fcca-d13c-4ded-ed11-bea42b239113"
      },
      "outputs": [
        {
          "output_type": "stream",
          "name": "stdout",
          "text": [
            "Производная для каждого выхода нейрона на выходном слое по весу равна\n"
          ]
        },
        {
          "output_type": "display_data",
          "data": {
            "text/plain": [
              "<Figure size 800x300 with 1 Axes>"
            ],
            "image/png": "[encoded data removed]"
          },
          "metadata": {}
        },
        {
          "output_type": "stream",
          "name": "stdout",
          "text": [
            "Подставляем уже известные Функции:\n"
          ]
        },
        {
          "output_type": "display_data",
          "data": {
            "text/plain": [
              "<Figure size 800x300 with 1 Axes>"
            ],
            "image/png": "[encoded data removed]"
          },
          "metadata": {}
        },
        {
          "output_type": "stream",
          "name": "stdout",
          "text": [
            "где \n",
            " первый множитель - вектор ошибки на выходном слое, а второй вектор выходов скрытого слоя. \n",
            " результирующая матрица имеет такой же размер как матрица весов\n"
          ]
        }
      ],
      "source": [
        "print('Производная для каждого выхода нейрона на выходном слое по весу равна')\n",
        "latex = r\"$  \\frac{\\partial z^{(2)}}{\\partial W^{(2)}} = a^{(1)}$\"\n",
        "draw_formula_from_text(latex)\n",
        "print('Подставляем уже известные Функции:')\n",
        "latex = r\"$\\frac{\\partial L}{\\partial W^{(2)}} = \\delta^{(2)} \\cdot (a^{(1)})^\\top$\"\n",
        "draw_formula_from_text(latex)\n",
        "print('где \\n первый множитель - вектор ошибки на выходном слое, а второй вектор выходов скрытого слоя. \\n результирующая матрица имеет такой же размер как матрица весов')"
      ]
    },
    {
      "cell_type": "code",
      "execution_count": 65,
      "metadata": {
        "colab": {
          "base_uri": "https://localhost:8080/",
          "height": 303
        },
        "id": "FKqzI7hx-kCp",
        "outputId": "c2587ab1-f2d4-4365-8460-cf3a763a93ec"
      },
      "outputs": [
        {
          "output_type": "stream",
          "name": "stdout",
          "text": [
            "С учетом того, что смещение добавляется одинаково ко всем выходам,\n",
            " производная выхода по смещению будет равно 1,то формула для смещения:\n"
          ]
        },
        {
          "output_type": "display_data",
          "data": {
            "text/plain": [
              "<Figure size 800x300 with 1 Axes>"
            ],
            "image/png": "[encoded data removed]"
          },
          "metadata": {}
        }
      ],
      "source": [
        "print('С учетом того, что смещение добавляется одинаково ко всем выходам,\\n производная выхода по смещению будет равно 1,то формула для смещения:')\n",
        "latex = r\"$ \\frac{\\partial L}{\\partial b^{(2)}} = \\delta^{(2)}$\"\n",
        "draw_formula_from_text(latex)"
      ]
    },
    {
      "cell_type": "markdown",
      "metadata": {
        "id": "g389szje_1j4"
      },
      "source": [
        "### Расчет ошибки скрытого слоя"
      ]
    },
    {
      "cell_type": "code",
      "execution_count": 66,
      "metadata": {
        "colab": {
          "base_uri": "https://localhost:8080/",
          "height": 285
        },
        "id": "07dDLEPsos-E",
        "outputId": "5c76961c-583c-4a5d-ed70-240e35d2c4ca"
      },
      "outputs": [
        {
          "output_type": "stream",
          "name": "stdout",
          "text": [
            "Нпйдем производную ошибки по входу скрытого слоя\n"
          ]
        },
        {
          "output_type": "display_data",
          "data": {
            "text/plain": [
              "<Figure size 800x300 with 1 Axes>"
            ],
            "image/png": "[encoded data removed]"
          },
          "metadata": {}
        }
      ],
      "source": [
        "print('Нпйдем производную ошибки по входу скрытого слоя')\n",
        "latex = r\"$\\frac{\\partial L}{\\partial z^{(1)}} = \\frac{\\partial L}{\\partial a^{(1)}} \\cdot \\frac{\\partial a^{(1)}}{\\partial z^{(1)}}.$\"\n",
        "draw_formula_from_text(latex)"
      ]
    },
    {
      "cell_type": "code",
      "execution_count": 67,
      "metadata": {
        "colab": {
          "base_uri": "https://localhost:8080/",
          "height": 839
        },
        "id": "D1QDZUvJotAf",
        "outputId": "9b310fb9-ec33-4eb3-f2ba-90c491afb827"
      },
      "outputs": [
        {
          "output_type": "stream",
          "name": "stdout",
          "text": [
            "Найдем 1 множитель\n",
            "Функция ошибки L зависит от выхода слоя через веса и входные данные\n"
          ]
        },
        {
          "output_type": "display_data",
          "data": {
            "text/plain": [
              "<Figure size 800x300 with 1 Axes>"
            ],
            "image/png": "[encoded data removed]"
          },
          "metadata": {}
        },
        {
          "output_type": "stream",
          "name": "stdout",
          "text": [
            "Производная входа в скрытый слок от выхода 1 слоя\n"
          ]
        },
        {
          "output_type": "display_data",
          "data": {
            "text/plain": [
              "<Figure size 800x300 with 1 Axes>"
            ],
            "image/png": "[encoded data removed]"
          },
          "metadata": {}
        },
        {
          "output_type": "stream",
          "name": "stdout",
          "text": [
            "Подставляем\n"
          ]
        },
        {
          "output_type": "display_data",
          "data": {
            "text/plain": [
              "<Figure size 800x300 with 1 Axes>"
            ],
            "image/png": "[encoded data removed]"
          },
          "metadata": {}
        }
      ],
      "source": [
        "print('Найдем 1 множитель')\n",
        "print('Функция ошибки L зависит от выхода слоя через веса и входные данные')\n",
        "latex = r\"$\\frac{\\partial L}{\\partial a^{(1)}} = \\frac{\\partial L}{\\partial z^{(2)}} \\cdot \\frac{\\partial z^{(2)}}{\\partial a^{(1)}}$\"\n",
        "draw_formula_from_text(latex)\n",
        "print('Производная входа в скрытый слок от выхода 1 слоя')\n",
        "latex = r\"$\\frac{\\partial z^{(2)}}{\\partial a^{(1)}} = W^{(2)}$\"\n",
        "draw_formula_from_text(latex)\n",
        "print('Подставляем')\n",
        "latex = r\"$\\frac{\\partial L}{\\partial a^{(1)}} = (W^{(2)})^\\top \\delta^{(2)}$\"\n",
        "draw_formula_from_text(latex)"
      ]
    },
    {
      "cell_type": "code",
      "execution_count": 68,
      "metadata": {
        "colab": {
          "base_uri": "https://localhost:8080/",
          "height": 571
        },
        "id": "7SA5H8qjotC-",
        "outputId": "c93516fd-6e62-44e9-f0e9-9d8e669621f4"
      },
      "outputs": [
        {
          "output_type": "stream",
          "name": "stdout",
          "text": [
            "Найдем 2 множитель\n",
            "переход от входных данных к выходным осуществляется через функцию активации\n"
          ]
        },
        {
          "output_type": "display_data",
          "data": {
            "text/plain": [
              "<Figure size 800x300 with 1 Axes>"
            ],
            "image/png": "[encoded data removed]"
          },
          "metadata": {}
        },
        {
          "output_type": "stream",
          "name": "stdout",
          "text": [
            "Подставляем\n"
          ]
        },
        {
          "output_type": "display_data",
          "data": {
            "text/plain": [
              "<Figure size 800x300 with 1 Axes>"
            ],
            "image/png": "[encoded data removed]"
          },
          "metadata": {}
        }
      ],
      "source": [
        "print('Найдем 2 множитель')\n",
        "print('переход от входных данных к выходным осуществляется через функцию активации')\n",
        "latex = r\"$\\frac{\\partial a^{(1)}}{\\partial z^{(1)}} = \\sigma'(z^{(1)})$\"\n",
        "draw_formula_from_text(latex)\n",
        "print('Подставляем')\n",
        "latex = r\"$\\delta^{(1)} = \\frac{\\partial L}{\\partial z^{(1)}} = (W^{(2)})^\\top \\delta^{(2)} \\cdot \\sigma'(z^{(1)})$\"\n",
        "draw_formula_from_text(latex)"
      ]
    },
    {
      "cell_type": "markdown",
      "metadata": {
        "id": "M0ovNANzHmUS"
      },
      "source": [
        "### Расчет градиентов функции по параментам скрытго слоя."
      ]
    },
    {
      "cell_type": "markdown",
      "metadata": {
        "id": "FUx0QhIbHwNC"
      },
      "source": [
        "Используем вывод, указынный для выходного слоя"
      ]
    },
    {
      "cell_type": "code",
      "execution_count": 69,
      "metadata": {
        "colab": {
          "base_uri": "https://localhost:8080/",
          "height": 554
        },
        "id": "CBR2nrU7H6Vk",
        "outputId": "fb2f5b49-95cf-430b-90c7-b4d82b8283ea"
      },
      "outputs": [
        {
          "output_type": "stream",
          "name": "stdout",
          "text": [
            "Для весов:\n"
          ]
        },
        {
          "output_type": "display_data",
          "data": {
            "text/plain": [
              "<Figure size 800x300 with 1 Axes>"
            ],
            "image/png": "[encoded data removed]"
          },
          "metadata": {}
        },
        {
          "output_type": "stream",
          "name": "stdout",
          "text": [
            "Для смещения:\n"
          ]
        },
        {
          "output_type": "display_data",
          "data": {
            "text/plain": [
              "<Figure size 800x300 with 1 Axes>"
            ],
            "image/png": "[encoded data removed]"
          },
          "metadata": {}
        }
      ],
      "source": [
        "print('Для весов:')\n",
        "latex = r\"$\\frac{\\partial L}{\\partial W^{(1)}} = \\delta^{(1)} \\cdot x^\\top$\"\n",
        "draw_formula_from_text(latex)\n",
        "print('Для смещения:')\n",
        "latex = r\"$\\frac{\\partial L}{\\partial b^{(1)}} = \\delta^{(1)}$\"\n",
        "draw_formula_from_text(latex)"
      ]
    },
    {
      "cell_type": "markdown",
      "metadata": {
        "id": "t3M0VZwQIfGH"
      },
      "source": [
        "###  обновление параметров"
      ]
    },
    {
      "cell_type": "markdown",
      "metadata": {
        "id": "bxogKxUkJO-H"
      },
      "source": [
        "После вычисления градиентов параметры обновляются с использованием градиентного спуска. Шаг градиентного спуска задается исследователем."
      ]
    },
    {
      "cell_type": "code",
      "execution_count": 70,
      "metadata": {
        "colab": {
          "base_uri": "https://localhost:8080/",
          "height": 1000
        },
        "id": "PBBOW6GVH6Yh",
        "outputId": "a71482ac-9124-4b09-80c8-ce789b70bc99"
      },
      "outputs": [
        {
          "output_type": "stream",
          "name": "stdout",
          "text": [
            "Для весов скрытого слоя:\n"
          ]
        },
        {
          "output_type": "display_data",
          "data": {
            "text/plain": [
              "<Figure size 800x300 with 1 Axes>"
            ],
            "image/png": "[encoded data removed]"
          },
          "metadata": {}
        },
        {
          "output_type": "stream",
          "name": "stdout",
          "text": [
            "Для смещения скрытого слоя:\n"
          ]
        },
        {
          "output_type": "display_data",
          "data": {
            "text/plain": [
              "<Figure size 800x300 with 1 Axes>"
            ],
            "image/png": "[encoded data removed]"
          },
          "metadata": {}
        },
        {
          "output_type": "stream",
          "name": "stdout",
          "text": [
            "Для весов выходного слоя:\n"
          ]
        },
        {
          "output_type": "display_data",
          "data": {
            "text/plain": [
              "<Figure size 800x300 with 1 Axes>"
            ],
            "image/png": "[encoded data removed]"
          },
          "metadata": {}
        },
        {
          "output_type": "stream",
          "name": "stdout",
          "text": [
            "Для смещения выходного слоя:\n"
          ]
        },
        {
          "output_type": "display_data",
          "data": {
            "text/plain": [
              "<Figure size 800x300 with 1 Axes>"
            ],
            "image/png": "[encoded data removed]"
          },
          "metadata": {}
        }
      ],
      "source": [
        "print('Для весов скрытого слоя:')\n",
        "latex = r\"$W^{(1)} := W^{(1)} - \\eta \\frac{\\partial L}{\\partial W^{(1)}}$\"\n",
        "draw_formula_from_text(latex)\n",
        "print('Для смещения скрытого слоя:')\n",
        "latex = r\"$b^{(1)} := b^{(1)} - \\eta \\frac{\\partial L}{\\partial b^{(1)}}$\"\n",
        "draw_formula_from_text(latex)\n",
        "print('Для весов выходного слоя:')\n",
        "latex = r\"$W^{(2)} := W^{(2)} - \\eta \\frac{\\partial L}{\\partial W^{(2)}}$\"\n",
        "draw_formula_from_text(latex)\n",
        "print('Для смещения выходного слоя:')\n",
        "latex = r\"$b^{(2)} := b^{(2)} - \\eta \\frac{\\partial L}{\\partial b^{(2)}}$\"\n",
        "draw_formula_from_text(latex)"
      ]
    },
    {
      "cell_type": "markdown",
      "metadata": {
        "id": "eJWBVkDmLNlA"
      },
      "source": [
        "## Часть 2. Метод обратного распространения ошибки\n"
      ]
    },
    {
      "cell_type": "markdown",
      "metadata": {
        "id": "WOmW9hL4MlF5"
      },
      "source": [
        "В данной часть будет описан алгоитм метода обратного распроистранения ошибки"
      ]
    },
    {
      "cell_type": "markdown",
      "metadata": {
        "id": "W9WpysDzM_Fp"
      },
      "source": [
        "<u>Шаг 1</u> Инициализация параментов.\n",
        "\n",
        "Задаются случайные начальные параментры для весов и смещения скрытого и выходного слоя"
      ]
    },
    {
      "cell_type": "markdown",
      "metadata": {
        "id": "NLLrPAppNVpd"
      },
      "source": [
        "<u>Шаг 2</u> Прямое распространение.\n"
      ]
    },
    {
      "cell_type": "code",
      "execution_count": 71,
      "metadata": {
        "colab": {
          "base_uri": "https://localhost:8080/",
          "height": 1000
        },
        "id": "6k7b0pDbH6bm",
        "outputId": "e277ec3f-de56-45b6-d235-e8bbba935094"
      },
      "outputs": [
        {
          "output_type": "stream",
          "name": "stdout",
          "text": [
            "Вычисляется вход скрытого слоя:\n"
          ]
        },
        {
          "output_type": "display_data",
          "data": {
            "text/plain": [
              "<Figure size 800x300 with 1 Axes>"
            ],
            "image/png": "[encoded data removed]"
          },
          "metadata": {}
        },
        {
          "output_type": "stream",
          "name": "stdout",
          "text": [
            "Применяется функция активации:\n"
          ]
        },
        {
          "output_type": "display_data",
          "data": {
            "text/plain": [
              "<Figure size 800x300 with 1 Axes>"
            ],
            "image/png": "[encoded data removed]"
          },
          "metadata": {}
        },
        {
          "output_type": "stream",
          "name": "stdout",
          "text": [
            "Вычисляеся входные даные итогового слоя :\n"
          ]
        },
        {
          "output_type": "display_data",
          "data": {
            "text/plain": [
              "<Figure size 800x300 with 1 Axes>"
            ],
            "image/png": "[encoded data removed]"
          },
          "metadata": {}
        },
        {
          "output_type": "stream",
          "name": "stdout",
          "text": [
            "Применяется softmax:\n"
          ]
        },
        {
          "output_type": "display_data",
          "data": {
            "text/plain": [
              "<Figure size 800x300 with 1 Axes>"
            ],
            "image/png": "[encoded data removed]"
          },
          "metadata": {}
        }
      ],
      "source": [
        "print('Вычисляется вход скрытого слоя:')\n",
        "latex = r\"$z^{(1)} = W^{(1)} x + b^{(1)}$\"\n",
        "draw_formula_from_text(latex)\n",
        "print('Применяется функция активации:')\n",
        "latex = r\"$a^{(1)} = \\sigma(z^{(1)})$\"\n",
        "draw_formula_from_text(latex)\n",
        "print('Вычисляеся входные даные итогового слоя :')\n",
        "latex = r\"$z^{(2)} = W^{(2)}a^{(1)} + b^{(2)}$\"\n",
        "draw_formula_from_text(latex)\n",
        "print('Применяется softmax:')\n",
        "latex = r\"$Softmax(y_i) = \\frac{e^{z_i}}{\\sum_{j=1}^k e^{z_j}}$\"\n",
        "draw_formula_from_text(latex)"
      ]
    },
    {
      "cell_type": "markdown",
      "metadata": {
        "id": "ac-HVuh-PyQY"
      },
      "source": [
        "<u>Шаг 3</u> Вычисление функции ошибки"
      ]
    },
    {
      "cell_type": "code",
      "execution_count": 72,
      "metadata": {
        "colab": {
          "base_uri": "https://localhost:8080/",
          "height": 268
        },
        "id": "0gBdyxVlH6ed",
        "outputId": "9c68ae54-0edb-4dae-9ecc-e88b8e502a51"
      },
      "outputs": [
        {
          "output_type": "display_data",
          "data": {
            "text/plain": [
              "<Figure size 800x300 with 1 Axes>"
            ],
            "image/png": "[encoded data removed]"
          },
          "metadata": {}
        }
      ],
      "source": [
        "latex = r\"$L = {-\\sum_{k=1}^K y_k log(z_k)}$\"\n",
        "draw_formula_from_text(latex)"
      ]
    },
    {
      "cell_type": "markdown",
      "metadata": {
        "id": "slDyOjK_QPkf"
      },
      "source": [
        "<u>Шаг 4</u> Обратное распространение ошибки"
      ]
    },
    {
      "cell_type": "code",
      "execution_count": 73,
      "metadata": {
        "colab": {
          "base_uri": "https://localhost:8080/",
          "height": 554
        },
        "id": "Ra0NDfhXotF9",
        "outputId": "9756f380-01a3-410d-ae7b-552ce058466d"
      },
      "outputs": [
        {
          "output_type": "stream",
          "name": "stdout",
          "text": [
            "Вычисляем ошибку выходного слоя:\n"
          ]
        },
        {
          "output_type": "display_data",
          "data": {
            "text/plain": [
              "<Figure size 800x300 with 1 Axes>"
            ],
            "image/png": "[encoded data removed]"
          },
          "metadata": {}
        },
        {
          "output_type": "stream",
          "name": "stdout",
          "text": [
            "Применяется ошибку скрытого слоя:\n"
          ]
        },
        {
          "output_type": "display_data",
          "data": {
            "text/plain": [
              "<Figure size 800x300 with 1 Axes>"
            ],
            "image/png": "[encoded data removed]"
          },
          "metadata": {}
        }
      ],
      "source": [
        "print('Вычисляем ошибку выходного слоя:')\n",
        "latex = r\"$\\delta^{(2)} = \\frac{\\partial L}{\\partial z^{(2)}} = \\hat{y} - y$\"\n",
        "draw_formula_from_text(latex)\n",
        "print('Применяется ошибку скрытого слоя:')\n",
        "latex = r\"$\\delta^{(1)} = \\frac{\\partial L}{\\partial z^{(1)}} = (W^{(2)})^\\top \\delta^{(2)} \\cdot \\sigma'(z^{(1)})$\"\n",
        "draw_formula_from_text(latex)"
      ]
    },
    {
      "cell_type": "markdown",
      "metadata": {
        "id": "mATq9VinRK59"
      },
      "source": [
        "Вычисляем градиенты:"
      ]
    },
    {
      "cell_type": "code",
      "execution_count": 74,
      "metadata": {
        "colab": {
          "base_uri": "https://localhost:8080/",
          "height": 1000
        },
        "id": "5INqHGeSkF__",
        "outputId": "4da1976e-ce9c-4e57-9470-6144b11b9a1a"
      },
      "outputs": [
        {
          "output_type": "stream",
          "name": "stdout",
          "text": [
            "Для весов скрытого слоя:\n"
          ]
        },
        {
          "output_type": "display_data",
          "data": {
            "text/plain": [
              "<Figure size 800x300 with 1 Axes>"
            ],
            "image/png": "[encoded data removed]"
          },
          "metadata": {}
        },
        {
          "output_type": "stream",
          "name": "stdout",
          "text": [
            "Для смещения скрытого слоя:\n"
          ]
        },
        {
          "output_type": "display_data",
          "data": {
            "text/plain": [
              "<Figure size 800x300 with 1 Axes>"
            ],
            "image/png": "[encoded data removed]"
          },
          "metadata": {}
        },
        {
          "output_type": "stream",
          "name": "stdout",
          "text": [
            "Для весов выходного слоя :\n"
          ]
        },
        {
          "output_type": "display_data",
          "data": {
            "text/plain": [
              "<Figure size 800x300 with 1 Axes>"
            ],
            "image/png": "[encoded data removed]"
          },
          "metadata": {}
        },
        {
          "output_type": "stream",
          "name": "stdout",
          "text": [
            "Для смещения выходного слоя:\n"
          ]
        },
        {
          "output_type": "display_data",
          "data": {
            "text/plain": [
              "<Figure size 800x300 with 1 Axes>"
            ],
            "image/png": "[encoded data removed]"
          },
          "metadata": {}
        }
      ],
      "source": [
        "print('Для весов скрытого слоя:')\n",
        "latex = r\"$\\frac{\\partial L}{\\partial W^{(1)}} = \\delta^{(1)} \\cdot x^\\top$\"\n",
        "draw_formula_from_text(latex)\n",
        "print('Для смещения скрытого слоя:')\n",
        "latex = r\"$\\frac{\\partial L}{\\partial b^{(1)}} = \\delta^{(1)}$\"\n",
        "draw_formula_from_text(latex)\n",
        "print('Для весов выходного слоя :')\n",
        "latex = r\"$\\frac{\\partial L}{\\partial W^{(2)}} = \\delta^{(2)} \\cdot (a^{(1)})^\\top$\"\n",
        "draw_formula_from_text(latex)\n",
        "print('Для смещения выходного слоя:')\n",
        "latex = r\"$\\frac{\\partial L}{\\partial b^{(2)}} = \\delta^{(2)}$\"\n",
        "draw_formula_from_text(latex)"
      ]
    },
    {
      "cell_type": "markdown",
      "metadata": {
        "id": "HyfubFjxSO0d"
      },
      "source": [
        "<u>Шаг 5</u> Обновление параметров"
      ]
    },
    {
      "cell_type": "code",
      "execution_count": 75,
      "metadata": {
        "colab": {
          "base_uri": "https://localhost:8080/",
          "height": 1000
        },
        "id": "jQQK03JwkGCf",
        "outputId": "9b890adb-fc0b-468c-af1c-163556f3dc93"
      },
      "outputs": [
        {
          "output_type": "stream",
          "name": "stdout",
          "text": [
            "Для весов скрытого слоя:\n"
          ]
        },
        {
          "output_type": "display_data",
          "data": {
            "text/plain": [
              "<Figure size 800x300 with 1 Axes>"
            ],
            "image/png": "[encoded data removed]"
          },
          "metadata": {}
        },
        {
          "output_type": "stream",
          "name": "stdout",
          "text": [
            "Для смещения скрытого слоя:\n"
          ]
        },
        {
          "output_type": "display_data",
          "data": {
            "text/plain": [
              "<Figure size 800x300 with 1 Axes>"
            ],
            "image/png": "[encoded data removed]"
          },
          "metadata": {}
        },
        {
          "output_type": "stream",
          "name": "stdout",
          "text": [
            "Для весов выходного слоя:\n"
          ]
        },
        {
          "output_type": "display_data",
          "data": {
            "text/plain": [
              "<Figure size 800x300 with 1 Axes>"
            ],
            "image/png": "[encoded data removed]"
          },
          "metadata": {}
        },
        {
          "output_type": "stream",
          "name": "stdout",
          "text": [
            "Для смещения выходного слоя:\n"
          ]
        },
        {
          "output_type": "display_data",
          "data": {
            "text/plain": [
              "<Figure size 800x300 with 1 Axes>"
            ],
            "image/png": "[encoded data removed]"
          },
          "metadata": {}
        }
      ],
      "source": [
        "print('Для весов скрытого слоя:')\n",
        "latex = r\"$W^{(1)} := W^{(1)} - \\eta \\frac{\\partial L}{\\partial W^{(1)}}$\"\n",
        "draw_formula_from_text(latex)\n",
        "print('Для смещения скрытого слоя:')\n",
        "latex = r\"$b^{(1)} := b^{(1)} - \\eta \\frac{\\partial L}{\\partial b^{(1)}}$\"\n",
        "draw_formula_from_text(latex)\n",
        "print('Для весов выходного слоя:')\n",
        "latex = r\"$W^{(2)} := W^{(2)} - \\eta \\frac{\\partial L}{\\partial W^{(2)}}$\"\n",
        "draw_formula_from_text(latex)\n",
        "print('Для смещения выходного слоя:')\n",
        "latex = r\"$b^{(2)} := b^{(2)} - \\eta \\frac{\\partial L}{\\partial b^{(2)}}$\"\n",
        "draw_formula_from_text(latex)"
      ]
    },
    {
      "cell_type": "markdown",
      "metadata": {
        "id": "fDVFbLdOShwI"
      },
      "source": [
        "<u>Шаг 6 </u>Повторять шаги 2–5 для каждого примера из обучающей выборки , пока сеть не обучится."
      ]
    },
    {
      "cell_type": "markdown",
      "metadata": {
        "id": "7pkNKq98XQUt"
      },
      "source": [
        "## Часть 3. Программная реализация кода"
      ]
    },
    {
      "cell_type": "markdown",
      "metadata": {
        "id": "Gw5Zw-znyWlT"
      },
      "source": [
        "В данной части будут программно реализованы формулы, описанные выше."
      ]
    },
    {
      "cell_type": "markdown",
      "metadata": {
        "id": "El3mZweUYnGe"
      },
      "source": [
        "<u>Шаг 1</u> Инициализация параметров"
      ]
    },
    {
      "cell_type": "code",
      "execution_count": 15,
      "metadata": {
        "id": "MSQVGFsVkGFj"
      },
      "outputs": [],
      "source": [
        "def initialize_parameters(input_size, hidden_size, output_size):\n",
        "    \"\"\"\n",
        "    Инициализация весов и смещений.\n",
        "    \"\"\"\n",
        "    np.random.seed(42)\n",
        "    W1 = np.random.randn(hidden_size, input_size) * 0.01\n",
        "    b1 = np.zeros((hidden_size, 1))\n",
        "    W2 = np.random.randn(output_size, hidden_size) * 0.01\n",
        "    b2 = np.zeros((output_size, 1))\n",
        "    return W1, b1, W2, b2"
      ]
    },
    {
      "cell_type": "markdown",
      "metadata": {
        "id": "ShR-TiysY5gy"
      },
      "source": [
        "<u>Шаг 2</u> Прямое распространение"
      ]
    },
    {
      "cell_type": "markdown",
      "metadata": {
        "id": "CcEtIiLmZBGL"
      },
      "source": [
        "Функцией активации скрытого слоя используем функцию активациии relu"
      ]
    },
    {
      "cell_type": "code",
      "execution_count": 16,
      "metadata": {
        "id": "V8pIUXFKwBj_"
      },
      "outputs": [],
      "source": [
        "def relu(z):\n",
        "    return np.maximum(0, z)"
      ]
    },
    {
      "cell_type": "code",
      "execution_count": 17,
      "metadata": {
        "id": "VPT2neOOZIsE"
      },
      "outputs": [],
      "source": [
        "def softmax(z):\n",
        "    exp_z = np.exp(z - np.max(z, axis=0, keepdims=True))\n",
        "    return exp_z / np.sum(exp_z, axis=0, keepdims=True)"
      ]
    },
    {
      "cell_type": "code",
      "execution_count": 18,
      "metadata": {
        "id": "NgC3zak9ZIvF"
      },
      "outputs": [],
      "source": [
        "def forward_propagation(X, W1, b1, W2, b2):\n",
        "    \"\"\"\n",
        "    Прямое распространение.\n",
        "    \"\"\"\n",
        "    Z1 = np.dot(W1, X) + b1\n",
        "    A1 = relu(Z1)\n",
        "\n",
        "    Z2 = np.dot(W2, A1) + b2\n",
        "    A2 = softmax(Z2)\n",
        "\n",
        "    return Z1, A1, Z2, A2"
      ]
    },
    {
      "cell_type": "markdown",
      "metadata": {
        "id": "RIeH1dR2ZdE1"
      },
      "source": [
        "<u>Шаг 3</u> Обратное распространение ошибки"
      ]
    },
    {
      "cell_type": "markdown",
      "metadata": {
        "id": "yShM96Incvfq"
      },
      "source": [
        "Вычисляем производную функции активации. Эта операция позволяет корректно учитывать влияние функции активации ReLU на градиенты."
      ]
    },
    {
      "cell_type": "code",
      "execution_count": 19,
      "metadata": {
        "id": "LPUzqGUXZIyE"
      },
      "outputs": [],
      "source": [
        "def relu_derivative(z):\n",
        "    return (z > 0).astype(float)"
      ]
    },
    {
      "cell_type": "code",
      "execution_count": 20,
      "metadata": {
        "id": "NV6aQrMsZI1D"
      },
      "outputs": [],
      "source": [
        "def backward_propagation(X, Y, Z1, A1, A2, W2):\n",
        "    \"\"\"\n",
        "    Обратное распространение.\n",
        "    \"\"\"\n",
        "    m = X.shape[1]\n",
        "    dZ2 = A2 - Y\n",
        "    dW2 = np.dot(dZ2, A1.T) / m\n",
        "    db2 = np.sum(dZ2, axis=1, keepdims=True) / m\n",
        "\n",
        "    dA1 = np.dot(W2.T, dZ2)\n",
        "    dZ1 = dA1 * relu_derivative(Z1)\n",
        "    dW1 = np.dot(dZ1, X.T) / m\n",
        "    db1 = np.sum(dZ1, axis=1, keepdims=True) / m\n",
        "\n",
        "    return dW1, db1, dW2, db2"
      ]
    },
    {
      "cell_type": "markdown",
      "metadata": {
        "id": "X9P1UQ6DZ44w"
      },
      "source": [
        "<u>Шаг 4</u> Обновление параметров"
      ]
    },
    {
      "cell_type": "code",
      "execution_count": 21,
      "metadata": {
        "id": "OAGNjgC_Z39o"
      },
      "outputs": [],
      "source": [
        "def update_parameters(W1, b1, W2, b2, dW1, db1, dW2, db2, learning_rate):\n",
        "    \"\"\"\n",
        "    Обновление параметров нейронной сети.\n",
        "    \"\"\"\n",
        "    W1 -= learning_rate * dW1\n",
        "    b1 -= learning_rate * db1\n",
        "    W2 -= learning_rate * dW2\n",
        "    b2 -= learning_rate * db2\n",
        "    return W1, b1, W2, b2"
      ]
    },
    {
      "cell_type": "markdown",
      "metadata": {
        "id": "SZOH5q81b2jA"
      },
      "source": [
        "## Часть 4. Разработка приложения классификации рукописных чисел."
      ]
    },
    {
      "cell_type": "markdown",
      "metadata": {
        "id": "wjTtt163kUSd"
      },
      "source": [
        "### Загрузка данных"
      ]
    },
    {
      "cell_type": "markdown",
      "metadata": {
        "id": "9nq_7h_okaGB"
      },
      "source": [
        "Так как данные есть в открытом доступе, можно загрузить их и сохранить в собственной директории. Данные сразу делятся на тестовую и тренировочную выборку."
      ]
    },
    {
      "cell_type": "code",
      "execution_count": 24,
      "metadata": {
        "colab": {
          "base_uri": "https://localhost:8080/"
        },
        "id": "ntLzeYla4o9H",
        "outputId": "5d7fa152-d321-4fb1-a777-99215bc12a97"
      },
      "outputs": [
        {
          "output_type": "stream",
          "name": "stdout",
          "text": [
            "Downloading data from https://storage.googleapis.com/tensorflow/tf-keras-datasets/mnist.npz\n",
            "\u001b[1m11490434/11490434\u001b[0m \u001b[32m━━━━━━━━━━━━━━━━━━━━\u001b[0m\u001b[37m\u001b[0m \u001b[1m2s\u001b[0m 0us/step\n"
          ]
        }
      ],
      "source": [
        "def save_mnist_images(output_dir):\n",
        "    (x_train, y_train), (x_test, y_test) = mnist.load_data()\n",
        "\n",
        "    if not os.path.exists(output_dir):\n",
        "        os.makedirs(output_dir)\n",
        "\n",
        "    train_dir = os.path.join(output_dir, 'train')\n",
        "    if not os.path.exists(train_dir):\n",
        "        os.makedirs(train_dir)\n",
        "\n",
        "    for i in range(10):\n",
        "        digit_dir = os.path.join(train_dir, str(i))\n",
        "        if not os.path.exists(digit_dir):\n",
        "            os.makedirs(digit_dir)\n",
        "\n",
        "        indices = np.where(y_train == i)[0]\n",
        "\n",
        "        for j, index in enumerate(indices):\n",
        "            image = x_train[index]\n",
        "            img = Image.fromarray(image)\n",
        "            img.save(os.path.join(digit_dir, f\"{j}.png\"))\n",
        "\n",
        "\n",
        "    test_dir = os.path.join(output_dir, 'test')\n",
        "    if not os.path.exists(test_dir):\n",
        "        os.makedirs(test_dir)\n",
        "\n",
        "    for i in range(10):\n",
        "        digit_dir = os.path.join(test_dir, str(i))\n",
        "        if not os.path.exists(digit_dir):\n",
        "            os.makedirs(digit_dir)\n",
        "\n",
        "        indices = np.where(y_test == i)[0]\n",
        "\n",
        "        for j, index in enumerate(indices):\n",
        "            image = x_test[index]\n",
        "            img = Image.fromarray(image)\n",
        "            img.save(os.path.join(digit_dir, f\"{j}.png\"))\n",
        "\n",
        "\n",
        "output_directory = \"mnist_images\"\n",
        "save_mnist_images(output_directory)"
      ]
    },
    {
      "cell_type": "markdown",
      "metadata": {
        "id": "E4n23fb6kqJ2"
      },
      "source": [
        "### разработка модели"
      ]
    },
    {
      "cell_type": "markdown",
      "metadata": {
        "id": "rWzvb7W-yiK0"
      },
      "source": [
        "Запишем недостающие функции, включающие в себя этап предобработки данных, объединения и реализации функций и этап тестирования приложения."
      ]
    },
    {
      "cell_type": "markdown",
      "metadata": {
        "id": "S6jMIYv51iB9"
      },
      "source": [
        "####<u>Предобработка данных</u>"
      ]
    },
    {
      "cell_type": "code",
      "execution_count": 25,
      "metadata": {
        "id": "6WPiLCVPwBm7"
      },
      "outputs": [],
      "source": [
        "def one_hot_encode(labels, num_classes):\n",
        "    \"\"\"\n",
        "    Приминение OneHotEncoding к target\n",
        "    \"\"\"\n",
        "    one_hot = np.zeros((num_classes, labels.shape[0]))\n",
        "    one_hot[labels, np.arange(labels.shape[0])] = 1\n",
        "    return one_hot"
      ]
    },
    {
      "cell_type": "code",
      "execution_count": 26,
      "metadata": {
        "id": "38Xj6kBjk-pd"
      },
      "outputs": [],
      "source": [
        "def load_mnist_from_directory(directory):\n",
        "    \"\"\"\n",
        "    Загружает данные из указанных директорий\n",
        "    \"\"\"\n",
        "    images = []\n",
        "    labels = []\n",
        "    for label in range(10):\n",
        "        label_dir = os.path.join(directory, str(label))\n",
        "        for file_name in os.listdir(label_dir):\n",
        "            file_path = os.path.join(label_dir, file_name)\n",
        "            img = cv2.imread(file_path, cv2.IMREAD_GRAYSCALE)\n",
        "            images.append(img.flatten() / 255.0)\n",
        "            labels.append(label)\n",
        "    return np.array(images), np.array(labels)"
      ]
    },
    {
      "cell_type": "code",
      "execution_count": 27,
      "metadata": {
        "colab": {
          "base_uri": "https://localhost:8080/"
        },
        "id": "y5B6WoX110KT",
        "outputId": "d198462e-552b-4536-b114-5b6b491590b3"
      },
      "outputs": [
        {
          "output_type": "stream",
          "name": "stdout",
          "text": [
            "x_train: (60000, 784), y_train: (60000,)\n"
          ]
        }
      ],
      "source": [
        "# Загрузка данных\n",
        "x_train, y_train = load_mnist_from_directory(\"/content/mnist_images/train\")\n",
        "x_test, y_test = load_mnist_from_directory(\"/content/mnist_images/test\")\n",
        "\n",
        "print(f\"x_train: {x_train.shape}, y_train: {y_train.shape}\")"
      ]
    },
    {
      "cell_type": "markdown",
      "metadata": {
        "id": "huvG5diTGpGy"
      },
      "source": [
        "Посмотрим на имеющиеся изображения"
      ]
    },
    {
      "cell_type": "code",
      "execution_count": 28,
      "metadata": {
        "colab": {
          "base_uri": "https://localhost:8080/",
          "height": 360
        },
        "id": "tSkgizOdFCDh",
        "outputId": "7ca4fafc-ea3c-4606-8657-324925549453"
      },
      "outputs": [
        {
          "output_type": "display_data",
          "data": {
            "text/plain": [
              "<Figure size 1000x400 with 10 Axes>"
            ],
            "image/png": "[encoded data removed]"
          },
          "metadata": {}
        }
      ],
      "source": [
        "subfolders = [f.path for f in os.scandir('/content/mnist_images/test') if f.is_dir()]\n",
        "selected_images = []\n",
        "\n",
        "for folder in subfolders:\n",
        "    images = [f for f in os.listdir(folder) if f.endswith(('jpg', 'jpeg', 'png', 'gif'))]\n",
        "    if images:  # Если в папке есть изображения\n",
        "        selected_image = random.choice(images)\n",
        "        selected_images.append(os.path.join(folder, selected_image))\n",
        "\n",
        "plt.figure(figsize=(10, 4))\n",
        "for i, image_path in enumerate(selected_images[:10]):\n",
        "    img = mpimg.imread(image_path)\n",
        "    plt.subplot(2, 5, i + 1)\n",
        "    plt.imshow(img)\n",
        "    plt.axis('off')\n",
        "    plt.title(os.path.basename(image_path))\n",
        "plt.show()"
      ]
    },
    {
      "cell_type": "code",
      "execution_count": 29,
      "metadata": {
        "id": "CL1s4BfT1_5S"
      },
      "outputs": [],
      "source": [
        "# Гиперпараметры\n",
        "input_size = 784\n",
        "hidden_size = 128\n",
        "output_size = 10\n",
        "\n",
        "# предобработка\n",
        "x_train = x_train.T\n",
        "x_test = x_test.T\n",
        "\n",
        "y_train_one_hot = one_hot_encode(y_train, output_size)\n",
        "y_test_one_hot = one_hot_encode(y_test, output_size)"
      ]
    },
    {
      "cell_type": "markdown",
      "metadata": {
        "id": "5OoT78bG20EX"
      },
      "source": [
        "####<u>Обучение модели</u>"
      ]
    },
    {
      "cell_type": "code",
      "execution_count": 30,
      "metadata": {
        "id": "7bgo7Ufmd6pY"
      },
      "outputs": [],
      "source": [
        "def train(X, Y, input_size, hidden_size, output_size, learning_rate, num_iterations):\n",
        "    \"\"\"\n",
        "    Обучение модели. Соединение всех функций в один процесс\n",
        "    \"\"\"\n",
        "    list_loss = []\n",
        "    W1, b1, W2, b2 = initialize_parameters(input_size, hidden_size, output_size)\n",
        "    for i in range(num_iterations):\n",
        "        Z1, A1, Z2, A2 = forward_propagation(X, W1, b1, W2, b2)\n",
        "        loss = -np.mean(np.sum(Y * np.log(A2 + 1e-8), axis=0))\n",
        "        list_loss.append(loss)\n",
        "        dW1, db1, dW2, db2 = backward_propagation(X, Y, Z1, A1, A2, W2)\n",
        "        W1, b1, W2, b2 = update_parameters(W1, b1, W2, b2, dW1, db1, dW2, db2, learning_rate)\n",
        "        if i % 100 == 0:\n",
        "            print(f\"Итерация {i}: ошибка = {loss}\")\n",
        "    return W1, b1, W2, b2, list_loss"
      ]
    },
    {
      "cell_type": "code",
      "execution_count": 31,
      "metadata": {
        "colab": {
          "base_uri": "https://localhost:8080/"
        },
        "id": "ESJ5GuA43olv",
        "outputId": "80649921-3147-4adf-f957-d32ba231c265"
      },
      "outputs": [
        {
          "output_type": "stream",
          "name": "stdout",
          "text": [
            "Итерация 0: ошибка = 2.3028354479841875\n",
            "Итерация 100: ошибка = 2.2904548476417683\n",
            "Итерация 200: ошибка = 2.268236738941945\n",
            "Итерация 300: ошибка = 2.221310406457631\n",
            "Итерация 400: ошибка = 2.1265796803807855\n",
            "Итерация 500: ошибка = 1.959677600798759\n",
            "Итерация 600: ошибка = 1.719154886242521\n",
            "Итерация 700: ошибка = 1.4532419710543218\n",
            "Итерация 800: ошибка = 1.2257548108086218\n",
            "Итерация 900: ошибка = 1.0547211119947926\n"
          ]
        }
      ],
      "source": [
        "iterations = 1000\n",
        "learning_rate = 0.01\n",
        "\n",
        "# Обучение модели\n",
        "W1, b1, W2, b2,list_a  = train(x_train, y_train_one_hot, input_size, hidden_size, output_size, learning_rate, iterations)\n"
      ]
    },
    {
      "cell_type": "markdown",
      "metadata": {
        "id": "nD9G1H2t9uKh"
      },
      "source": [
        "####<u>Тестирование модели</u>"
      ]
    },
    {
      "cell_type": "code",
      "execution_count": 32,
      "metadata": {
        "id": "1Owb580Qd6sh"
      },
      "outputs": [],
      "source": [
        "def predict(X, W1, b1, W2, b2):\n",
        "    \"\"\"\n",
        "    Предсказание\n",
        "    \"\"\"\n",
        "    _, _, _, A2 = forward_propagation(X, W1, b1, W2, b2)\n",
        "    return np.argmax(A2, axis=0)"
      ]
    },
    {
      "cell_type": "code",
      "execution_count": 33,
      "metadata": {
        "colab": {
          "base_uri": "https://localhost:8080/"
        },
        "id": "eXzo_LdngXhV",
        "outputId": "8aec0c5a-3dee-4d88-dd5f-a668ec7e626c"
      },
      "outputs": [
        {
          "output_type": "stream",
          "name": "stdout",
          "text": [
            "Точность на тестовых данных: 79.69%\n"
          ]
        }
      ],
      "source": [
        "# Тестирование модели\n",
        "y_pred = predict(x_test, W1, b1, W2, b2)\n",
        "accuracy = np.mean(y_pred == y_test)\n",
        "print(f\"Точность на тестовых данных: {accuracy * 100:.2f}%\")"
      ]
    },
    {
      "cell_type": "markdown",
      "metadata": {
        "id": "QFKfzaxiIxQA"
      },
      "source": [
        "####<u>Тестирование с иными гиперпараметрами</u>"
      ]
    },
    {
      "cell_type": "code",
      "execution_count": 34,
      "metadata": {
        "colab": {
          "base_uri": "https://localhost:8080/"
        },
        "id": "Cn2CkHJFHnp1",
        "outputId": "3a2f65ac-bd05-4d46-85d5-f14d483cca82"
      },
      "outputs": [
        {
          "output_type": "stream",
          "name": "stdout",
          "text": [
            "Итерация 0: ошибка = 2.3028354479841875\n",
            "Итерация 100: ошибка = 1.1459489427062897\n",
            "Итерация 200: ошибка = 0.5668262733417595\n",
            "Итерация 300: ошибка = 0.3197641898776689\n",
            "Итерация 400: ошибка = 0.2568645385903507\n",
            "Итерация 500: ошибка = 0.22903603270514175\n",
            "Итерация 600: ошибка = 0.21015640069835775\n",
            "Итерация 700: ошибка = 0.19708120549320537\n",
            "Итерация 800: ошибка = 0.18706743536971607\n",
            "Итерация 900: ошибка = 0.1762271912679379\n"
          ]
        }
      ],
      "source": [
        "iterations = 1000\n",
        "learning_rate = 1.5\n",
        "\n",
        "# Обучение модели\n",
        "W1, b1, W2, b2,list_b  = train(x_train, y_train_one_hot, input_size, hidden_size, output_size, learning_rate, iterations)\n"
      ]
    },
    {
      "cell_type": "code",
      "execution_count": 35,
      "metadata": {
        "colab": {
          "base_uri": "https://localhost:8080/"
        },
        "id": "HT2-ZyW0JL9V",
        "outputId": "7c541d99-e3e4-47dd-efd3-e78cc5319fa7"
      },
      "outputs": [
        {
          "output_type": "stream",
          "name": "stdout",
          "text": [
            "Точность на тестовых данных: 93.09%\n"
          ]
        }
      ],
      "source": [
        "# Тестирование модели\n",
        "y_pred = predict(x_test, W1, b1, W2, b2)\n",
        "accuracy = np.mean(y_pred == y_test)\n",
        "print(f\"Точность на тестовых данных: {accuracy * 100:.2f}%\")"
      ]
    },
    {
      "cell_type": "code",
      "execution_count": 36,
      "metadata": {
        "colab": {
          "base_uri": "https://localhost:8080/"
        },
        "id": "HJv6BtZOJMA7",
        "outputId": "c71c35a3-222d-42b7-9559-03457843c3d3"
      },
      "outputs": [
        {
          "output_type": "stream",
          "name": "stdout",
          "text": [
            "Итерация 0: ошибка = 2.3028354479841875\n",
            "Итерация 100: ошибка = 0.3005996957931573\n",
            "Итерация 200: ошибка = 0.21354976798195727\n",
            "Итерация 300: ошибка = 0.1729325518081808\n",
            "Итерация 400: ошибка = 0.14612364922666174\n",
            "Итерация 500: ошибка = 0.1264675776281579\n",
            "Итерация 600: ошибка = 0.11120003652062481\n",
            "Итерация 700: ошибка = 0.09895753669040393\n",
            "Итерация 800: ошибка = 0.08887257456278169\n",
            "Итерация 900: ошибка = 0.08046231955805226\n"
          ]
        }
      ],
      "source": [
        "iterations = 1000\n",
        "learning_rate = 0.7\n",
        "\n",
        "# Обучение модели\n",
        "W1, b1, W2, b2,list_c  = train(x_train, y_train_one_hot, input_size, hidden_size, output_size, learning_rate, iterations)\n"
      ]
    },
    {
      "cell_type": "code",
      "execution_count": 37,
      "metadata": {
        "colab": {
          "base_uri": "https://localhost:8080/"
        },
        "id": "60Do8hNYJMEn",
        "outputId": "7c47eab1-7596-407b-f8ff-3155cf3a6b15"
      },
      "outputs": [
        {
          "output_type": "stream",
          "name": "stdout",
          "text": [
            "Точность на тестовых данных: 97.25%\n"
          ]
        }
      ],
      "source": [
        "# Тестирование модели\n",
        "y_pred = predict(x_test, W1, b1, W2, b2)\n",
        "accuracy = np.mean(y_pred == y_test)\n",
        "print(f\"Точность на тестовых данных: {accuracy * 100:.2f}%\")"
      ]
    },
    {
      "cell_type": "markdown",
      "metadata": {
        "id": "VLslFgT96m5o"
      },
      "source": [
        "Отобразим полученные результаты на графике"
      ]
    },
    {
      "cell_type": "code",
      "execution_count": 38,
      "metadata": {
        "colab": {
          "base_uri": "https://localhost:8080/",
          "height": 564
        },
        "id": "qL39y5ofTV-a",
        "outputId": "b5e34b8c-2b7f-47fd-e06a-b9cd8d68b79e"
      },
      "outputs": [
        {
          "output_type": "display_data",
          "data": {
            "text/plain": [
              "<Figure size 2000x600 with 1 Axes>"
            ],
            "image/png": "[encoded data removed]"
          },
          "metadata": {}
        }
      ],
      "source": [
        "x_indices = list(range(len(list_a)))\n",
        "plt.figure(figsize=(20, 6))\n",
        "plt.plot(x_indices, list_a, label='learning_rate = 0.01')\n",
        "plt.plot(x_indices, list_b, label='learning_rate = 1.5')\n",
        "plt.plot(x_indices, list_c, label='learning_rate = 0.7')\n",
        "plt.title('loss')\n",
        "plt.xlabel('iterations')\n",
        "plt.ylabel('Значения')\n",
        "plt.legend()\n",
        "plt.grid()\n",
        "plt.show()"
      ]
    },
    {
      "cell_type": "markdown",
      "metadata": {
        "id": "tkpfia1REw_f"
      },
      "source": [
        "Модель с параментром learning_rate( скорость обучения) равном 0.01 обучается медленно, с параментром равным 1.5 переобучается. Переобучение видно по графику значения ошибки, который менее плавный, чем остальные.\n",
        "\n",
        "Оптимально по скорости и параметрам модель с средними гиперпараметрами."
      ]
    },
    {
      "cell_type": "markdown",
      "metadata": {
        "id": "L0Js5Of8HW1p"
      },
      "source": [
        "##Часть 5. Модель на Keras"
      ]
    },
    {
      "cell_type": "code",
      "source": [
        "# загрузим данные\n",
        "(x_train, y_train),(x_test,y_test) = mnist.load_data()"
      ],
      "metadata": {
        "id": "PsZbRd3TwC4n"
      },
      "execution_count": 40,
      "outputs": []
    },
    {
      "cell_type": "code",
      "source": [
        "# проведем предобработку\n",
        "x_train = x_train/255\n",
        "x_test = x_test/255\n",
        "\n",
        "y_train = to_categorical(y_train)\n",
        "y_test = to_categorical(y_test)"
      ],
      "metadata": {
        "id": "yS7DI9HywC7q"
      },
      "execution_count": 41,
      "outputs": []
    },
    {
      "cell_type": "code",
      "source": [
        "# Создадим модель\n",
        "model = Sequential()\n",
        "model.add(Input(shape=(784,)))\n",
        "model.add(Dense(256, activation='relu'))\n",
        "model.add(Dense(10, activation='softmax'))\n",
        "\n",
        "model.compile(optimizer='adam', loss='categorical_crossentropy', metrics=['accuracy'])"
      ],
      "metadata": {
        "id": "C5ZYwiGUwC_E"
      },
      "execution_count": 42,
      "outputs": []
    },
    {
      "cell_type": "code",
      "source": [
        "# обучим модель\n",
        "model.fit(x_train.reshape(-1,784),y_train,batch_size=128, epochs=10, validation_split=0.2)"
      ],
      "metadata": {
        "colab": {
          "base_uri": "https://localhost:8080/"
        },
        "id": "1W8u_HY8zsN7",
        "outputId": "24cd8b41-acd7-44e7-c78d-dd79f76ebc13"
      },
      "execution_count": 43,
      "outputs": [
        {
          "output_type": "stream",
          "name": "stdout",
          "text": [
            "Epoch 1/10\n",
            "\u001b[1m375/375\u001b[0m \u001b[32m━━━━━━━━━━━━━━━━━━━━\u001b[0m\u001b[37m\u001b[0m \u001b[1m6s\u001b[0m 10ms/step - accuracy: 0.8383 - loss: 0.5928 - val_accuracy: 0.9482 - val_loss: 0.1829\n",
            "Epoch 2/10\n",
            "\u001b[1m375/375\u001b[0m \u001b[32m━━━━━━━━━━━━━━━━━━━━\u001b[0m\u001b[37m\u001b[0m \u001b[1m3s\u001b[0m 8ms/step - accuracy: 0.9534 - loss: 0.1625 - val_accuracy: 0.9647 - val_loss: 0.1254\n",
            "Epoch 3/10\n",
            "\u001b[1m375/375\u001b[0m \u001b[32m━━━━━━━━━━━━━━━━━━━━\u001b[0m\u001b[37m\u001b[0m \u001b[1m3s\u001b[0m 8ms/step - accuracy: 0.9719 - loss: 0.1010 - val_accuracy: 0.9683 - val_loss: 0.1074\n",
            "Epoch 4/10\n",
            "\u001b[1m375/375\u001b[0m \u001b[32m━━━━━━━━━━━━━━━━━━━━\u001b[0m\u001b[37m\u001b[0m \u001b[1m5s\u001b[0m 12ms/step - accuracy: 0.9789 - loss: 0.0752 - val_accuracy: 0.9720 - val_loss: 0.0961\n",
            "Epoch 5/10\n",
            "\u001b[1m375/375\u001b[0m \u001b[32m━━━━━━━━━━━━━━━━━━━━\u001b[0m\u001b[37m\u001b[0m \u001b[1m5s\u001b[0m 12ms/step - accuracy: 0.9840 - loss: 0.0554 - val_accuracy: 0.9732 - val_loss: 0.0871\n",
            "Epoch 6/10\n",
            "\u001b[1m375/375\u001b[0m \u001b[32m━━━━━━━━━━━━━━━━━━━━\u001b[0m\u001b[37m\u001b[0m \u001b[1m4s\u001b[0m 10ms/step - accuracy: 0.9873 - loss: 0.0456 - val_accuracy: 0.9753 - val_loss: 0.0816\n",
            "Epoch 7/10\n",
            "\u001b[1m375/375\u001b[0m \u001b[32m━━━━━━━━━━━━━━━━━━━━\u001b[0m\u001b[37m\u001b[0m \u001b[1m6s\u001b[0m 13ms/step - accuracy: 0.9911 - loss: 0.0334 - val_accuracy: 0.9762 - val_loss: 0.0817\n",
            "Epoch 8/10\n",
            "\u001b[1m375/375\u001b[0m \u001b[32m━━━━━━━━━━━━━━━━━━━━\u001b[0m\u001b[37m\u001b[0m \u001b[1m3s\u001b[0m 7ms/step - accuracy: 0.9934 - loss: 0.0280 - val_accuracy: 0.9756 - val_loss: 0.0774\n",
            "Epoch 9/10\n",
            "\u001b[1m375/375\u001b[0m \u001b[32m━━━━━━━━━━━━━━━━━━━━\u001b[0m\u001b[37m\u001b[0m \u001b[1m3s\u001b[0m 7ms/step - accuracy: 0.9951 - loss: 0.0217 - val_accuracy: 0.9768 - val_loss: 0.0773\n",
            "Epoch 10/10\n",
            "\u001b[1m375/375\u001b[0m \u001b[32m━━━━━━━━━━━━━━━━━━━━\u001b[0m\u001b[37m\u001b[0m \u001b[1m5s\u001b[0m 7ms/step - accuracy: 0.9964 - loss: 0.0172 - val_accuracy: 0.9766 - val_loss: 0.0831\n"
          ]
        },
        {
          "output_type": "execute_result",
          "data": {
            "text/plain": [
              "<keras.src.callbacks.history.History at 0x7f8c23912d10>"
            ]
          },
          "metadata": {},
          "execution_count": 43
        }
      ]
    },
    {
      "cell_type": "code",
      "source": [
        "# протестируем модель\n",
        "score = model.evaluate(x_test.reshape(-1,784), y_test, verbose=0)\n",
        "print('test loss:', score[0])\n",
        "print('test accuracy:', score[1])"
      ],
      "metadata": {
        "colab": {
          "base_uri": "https://localhost:8080/"
        },
        "id": "zzcFDcdwzsRa",
        "outputId": "d34beffd-5eb8-4abf-c457-eee31b1a2846"
      },
      "execution_count": 44,
      "outputs": [
        {
          "output_type": "stream",
          "name": "stdout",
          "text": [
            "test loss: 0.07259631156921387\n",
            "test accuracy: 0.9785000085830688\n"
          ]
        }
      ]
    },
    {
      "cell_type": "code",
      "source": [
        "# проверим предсказание на случайном изображении из тестовой выборки\n",
        "idx = np.random.randint(x_test.shape[0])\n",
        "img = x_test[idx]\n",
        "\n",
        "pred = model.predict(img.reshape(-1,784))\n",
        "print('Prediction:', np.argmax(pred))\n",
        "\n",
        "plt.imshow(img, cmap='gray')\n",
        "plt.show()"
      ],
      "metadata": {
        "colab": {
          "base_uri": "https://localhost:8080/",
          "height": 465
        },
        "id": "9DmKq1dB0vWa",
        "outputId": "d72af5c1-69a8-438d-cb05-b9a9a204ab4b"
      },
      "execution_count": 45,
      "outputs": [
        {
          "output_type": "stream",
          "name": "stdout",
          "text": [
            "\u001b[1m1/1\u001b[0m \u001b[32m━━━━━━━━━━━━━━━━━━━━\u001b[0m\u001b[37m\u001b[0m \u001b[1m0s\u001b[0m 71ms/step\n",
            "Prediction: 1\n"
          ]
        },
        {
          "output_type": "display_data",
          "data": {
            "text/plain": [
              "<Figure size 640x480 with 1 Axes>"
            ],
            "image/png": "[encoded data removed]"
          },
          "metadata": {}
        }
      ]
    },
    {
      "cell_type": "code",
      "source": [
        "# Сохраним модель\n",
        "model.save('my_model.keras')"
      ],
      "metadata": {
        "id": "gi8apVF2FlPi"
      },
      "execution_count": 46,
      "outputs": []
    },
    {
      "cell_type": "markdown",
      "source": [
        "## Часть 6. Приложение"
      ],
      "metadata": {
        "id": "XXeYnVf4ZHBn"
      }
    },
    {
      "cell_type": "markdown",
      "source": [
        "С помощью библиотеки gradio настроим приложение, позволяющее рисовать и подавать для предсказания пользователю цифру."
      ],
      "metadata": {
        "id": "7Cvj-Th4ad3L"
      }
    },
    {
      "cell_type": "code",
      "source": [
        "# загружаем модель\n",
        "model = load_model('my_model.keras')"
      ],
      "metadata": {
        "id": "dhyrv_uJZigY"
      },
      "execution_count": null,
      "outputs": []
    },
    {
      "cell_type": "code",
      "source": [
        "def preprocess_image(image):\n",
        "    \"\"\"\n",
        "    Предобработка изображения:\n",
        "\n",
        "    \"\"\"\n",
        "    alpha_channel = image[:, :, 3]\n",
        "    image = Image.fromarray(alpha_channel)\n",
        "    image = image.resize((28, 28))\n",
        "    image = np.array(image)\n",
        "    image = image / 255.0\n",
        "    image = image.reshape(1, 784)\n",
        "    return image"
      ],
      "metadata": {
        "id": "HsAh4EciZqYw"
      },
      "execution_count": 49,
      "outputs": []
    },
    {
      "cell_type": "code",
      "source": [
        "def predict_number(image):\n",
        "    \"\"\"\n",
        "    Функция для предсказания числа\n",
        "    \"\"\"\n",
        "    try:\n",
        "        image = image[\"composite\"]\n",
        "        preprocessed_image = preprocess_image(image)\n",
        "        predictions = model.predict(preprocessed_image)\n",
        "        predicted_class = np.argmax(predictions)\n",
        "        probabilities = {str(i): round(float(predictions[0][i]) * 100, 2) for i in range(10)}\n",
        "        probabilities_text = \"\\n\".join([f\"Класс {i}: {probabilities[str(i)]}%\" for i in range(10)])\n",
        "        return f\"Предсказанное число: {predicted_class}\\n\\nВероятности:\\n{probabilities_text}\"\n",
        "\n",
        "    except Exception as e:\n",
        "        return f\"Ошибка: {str(e)}\""
      ],
      "metadata": {
        "id": "N1wdIXngZ9xw"
      },
      "execution_count": 50,
      "outputs": []
    },
    {
      "cell_type": "code",
      "source": [
        "interface = gr.Interface(\n",
        "    fn=predict_number,\n",
        "    inputs=gr.Sketchpad(label=\"Нарисуйте число\", canvas_size=(400, 400)),\n",
        "    outputs=\"text\"\n",
        ")\n",
        "\n",
        "interface.launch(debug=True)"
      ],
      "metadata": {
        "colab": {
          "base_uri": "https://localhost:8080/",
          "height": 678
        },
        "id": "8V9N6KOD0vam",
        "outputId": "9a95d80c-cc1f-48ec-ce44-c66538fbec30"
      },
      "execution_count": 51,
      "outputs": [
        {
          "output_type": "stream",
          "name": "stdout",
          "text": [
            "Running Gradio in a Colab notebook requires sharing enabled. Automatically setting `share=True` (you can turn this off by setting `share=False` in `launch()` explicitly).\n",
            "\n",
            "Colab notebook detected. This cell will run indefinitely so that you can see errors and logs. To turn off, set debug=False in launch().\n",
            "* Running on public URL: https://c3c5d5d46d3800ee17.gradio.live\n",
            "\n",
            "This share link expires in 72 hours. For free permanent hosting and GPU upgrades, run `gradio deploy` from the terminal in the working directory to deploy to Hugging Face Spaces (https://huggingface.co/spaces)\n"
          ]
        },
        {
          "output_type": "display_data",
          "data": {
            "text/plain": [
              "<IPython.core.display.HTML object>"
            ],
            "text/html": [
              "<div><iframe src=\"https://c3c5d5d46d3800ee17.gradio.live\" width=\"100%\" height=\"500\" allow=\"autoplay; camera; microphone; clipboard-read; clipboard-write;\" frameborder=\"0\" allowfullscreen></iframe></div>"
            ]
          },
          "metadata": {}
        },
        {
          "output_type": "stream",
          "name": "stdout",
          "text": [
            "\u001b[1m1/1\u001b[0m \u001b[32m━━━━━━━━━━━━━━━━━━━━\u001b[0m\u001b[37m\u001b[0m \u001b[1m0s\u001b[0m 47ms/step\n",
            "Keyboard interruption in main thread... closing server.\n",
            "Killing tunnel 127.0.0.1:7860 <> https://c3c5d5d46d3800ee17.gradio.live\n"
          ]
        },
        {
          "output_type": "execute_result",
          "data": {
            "text/plain": []
          },
          "metadata": {},
          "execution_count": 51
        }
      ]
    }
  ],
  "metadata": {
    "colab": {
      "provenance": [],
      "collapsed_sections": [
        "Sw0AbA6bg4kQ",
        "eJWBVkDmLNlA",
        "7pkNKq98XQUt"
      ],
      "authorship_tag": "ABX9TyNHzxhDDWZi29DLRYAnpcan"
    },
    "kernelspec": {
      "display_name": "Python 3",
      "name": "python3"
    },
    "language_info": {
      "name": "python"
    }
  },
  "nbformat": 4,
  "nbformat_minor": 0
}
